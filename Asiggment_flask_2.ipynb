{
 "cells": [
  {
   "cell_type": "code",
   "execution_count": null,
   "id": "88024079-6fc2-4801-88c8-876255657148",
   "metadata": {},
   "outputs": [],
   "source": [
    " Explain GET and POST methods.\n",
    "    GET:-GET is used to request data from a specified resource.\n",
    "    Some notes on GET requests:\n",
    "\n",
    "GET requests can be cached\n",
    "GET requests remain in the browser history\n",
    "GET requests can be bookmarked\n",
    "GET requests should never be used when dealing with sensitive data\n",
    "GET requests have length restrictions\n",
    "GET requests are only used to request data (not modify)\n",
    "\n",
    "    Post:-POST is used to send data to a server to create/update a resource.\n",
    "\n",
    "Some notes on POST requests:\n",
    "\n",
    "POST requests are never cached\n",
    "POST requests do not remain in the browser history\n",
    "POST requests cannot be bookmarked\n",
    "POST requests have no restrictions on data length"
   ]
  },
  {
   "cell_type": "code",
   "execution_count": null,
   "id": "7ffefdd3-79c2-430a-80d8-e25efcff2c6f",
   "metadata": {},
   "outputs": [],
   "source": [
    "Why is request used in Flask?\n",
    "Ans:-When the Flask application handles a request, it creates a Request object based on the environment it received from the WSGI server. Because a worker (thread, process, or coroutine depending on the server) handles only one request at a time, the request data can be considered global to that worker during that request."
   ]
  },
  {
   "cell_type": "code",
   "execution_count": null,
   "id": "a3a0891a-02fc-4150-b366-cd3e5aff0eb7",
   "metadata": {},
   "outputs": [],
   "source": [
    " Why is redirect() used in Flask?\n",
    "Ans:-redirect() function lets you redirect the user to a different URL by sending an HTTP response with status 302"
   ]
  },
  {
   "cell_type": "code",
   "execution_count": null,
   "id": "e4169a29-bd49-4ed9-9367-f7d3935b090e",
   "metadata": {},
   "outputs": [],
   "source": [
    "What are templates in Flask?\n",
    "Ans:-Templates are files that contain static data as well as placeholders for dynamic data. A template is rendered with specific data to produce a final document. Flask uses the Jinja template library to render templates. In your application, you will use templates to render HTML which will display in the user's browser."
   ]
  },
  {
   "cell_type": "code",
   "execution_count": null,
   "id": "950099b2-aeed-438b-b33a-ba9d6dcb9098",
   "metadata": {},
   "outputs": [],
   "source": [
    " Why is the render_template() function used?\n",
    "Ans:-render_template is used to generate output from a template file based on the Jinja2 engine that is found in the application's templates folder. Note that render_template is typically imported directly from the flask package instead of from flask"
   ]
  }
 ],
 "metadata": {
  "kernelspec": {
   "display_name": "Python 3 (ipykernel)",
   "language": "python",
   "name": "python3"
  },
  "language_info": {
   "codemirror_mode": {
    "name": "ipython",
    "version": 3
   },
   "file_extension": ".py",
   "mimetype": "text/x-python",
   "name": "python",
   "nbconvert_exporter": "python",
   "pygments_lexer": "ipython3",
   "version": "3.10.8"
  }
 },
 "nbformat": 4,
 "nbformat_minor": 5
}
